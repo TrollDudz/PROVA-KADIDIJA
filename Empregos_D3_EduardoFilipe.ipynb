{
  "nbformat": 4,
  "nbformat_minor": 0,
  "metadata": {
    "colab": {
      "provenance": [],
      "authorship_tag": "ABX9TyN/28YjwT/fSAVPwE/toILq",
      "include_colab_link": true
    },
    "kernelspec": {
      "name": "python3",
      "display_name": "Python 3"
    },
    "language_info": {
      "name": "python"
    }
  },
  "cells": [
    {
      "cell_type": "markdown",
      "metadata": {
        "id": "view-in-github",
        "colab_type": "text"
      },
      "source": [
        "<a href=\"https://colab.research.google.com/github/TrollDudz/PROVA-KADIDIJA/blob/main/Empregos_D3_EduardoFilipe.ipynb\" target=\"_parent\"><img src=\"https://colab.research.google.com/assets/colab-badge.svg\" alt=\"Open In Colab\"/></a>"
      ]
    },
    {
      "cell_type": "code",
      "execution_count": 5,
      "metadata": {
        "id": "OtR4dg9V7nV-"
      },
      "outputs": [],
      "source": [
        "import pandas as pd\n",
        "\n",
        "# Criando o DataFrame com dados de exemplo\n",
        "data = {\n",
        "    'Nome': ['João', 'Maria', 'Pedro', 'Ana', 'Lucas'],\n",
        "    'Idade': [25, 30, 22, 28, 35],\n",
        "    'Cidade': ['São Paulo', 'Rio de Janeiro', 'Belo Horizonte', 'Brasília', 'Curitiba'],\n",
        "    'Profissão': ['Engenheiro', 'Médica', 'Designer', 'Advogada', 'Arquiteto'],\n",
        "    'Salário': [7000, 12000, 4500, 8500, 9000],\n",
        "    'Empresa': ['Empresa A', 'Empresa B', 'Empresa C', 'Empresa D', 'Empresa E']\n",
        "}"
      ]
    },
    {
      "cell_type": "markdown",
      "source": [
        "**QUESTÃO 1**"
      ],
      "metadata": {
        "id": "FHLDVAweQkPc"
      }
    },
    {
      "cell_type": "code",
      "source": [
        "df = pd.DataFrame(data)\n",
        "\n",
        "# 1. Exibir toda a base de dados\n",
        "print(\"Toda a base de dados:\")\n",
        "print(df)"
      ],
      "metadata": {
        "colab": {
          "base_uri": "https://localhost:8080/"
        },
        "id": "U1IUieRRQir0",
        "outputId": "e87d0bcf-d893-4bb8-b9c5-c6e2e7aa71dc"
      },
      "execution_count": 6,
      "outputs": [
        {
          "output_type": "stream",
          "name": "stdout",
          "text": [
            "Toda a base de dados:\n",
            "    Nome  Idade          Cidade   Profissão  Salário    Empresa\n",
            "0   João     25       São Paulo  Engenheiro     7000  Empresa A\n",
            "1  Maria     30  Rio de Janeiro      Médica    12000  Empresa B\n",
            "2  Pedro     22  Belo Horizonte    Designer     4500  Empresa C\n",
            "3    Ana     28        Brasília    Advogada     8500  Empresa D\n",
            "4  Lucas     35        Curitiba   Arquiteto     9000  Empresa E\n"
          ]
        }
      ]
    },
    {
      "cell_type": "markdown",
      "source": [
        "***QUESTÃO 2***"
      ],
      "metadata": {
        "id": "fWy4ZVHeR1t0"
      }
    },
    {
      "cell_type": "code",
      "source": [
        "# 2. Apresentar o tamanho do DataFrame (quantas colunas x linhas)\n",
        "tamanho = df.shape\n",
        "print(f\"Tamanho do DataFrame: {tamanho[0]} linhas x {tamanho[1]} colunas\")"
      ],
      "metadata": {
        "colab": {
          "base_uri": "https://localhost:8080/"
        },
        "id": "x32csO9tSAFU",
        "outputId": "086c6c15-fbc6-41b2-c8b4-51f677c4670e"
      },
      "execution_count": 7,
      "outputs": [
        {
          "output_type": "stream",
          "name": "stdout",
          "text": [
            "Tamanho do DataFrame: 5 linhas x 6 colunas\n"
          ]
        }
      ]
    },
    {
      "cell_type": "markdown",
      "source": [
        "**QUESTÃO 3**"
      ],
      "metadata": {
        "id": "2C3UT9JMSIkl"
      }
    },
    {
      "cell_type": "code",
      "source": [
        "# 3. Acessar e exibir a linha específica (x) com todas as características\n",
        "linha_x = df.iloc[2]\n",
        "print(\"Linha específica (x=2):\")\n",
        "print(linha_x)"
      ],
      "metadata": {
        "colab": {
          "base_uri": "https://localhost:8080/"
        },
        "id": "xPnE8hAqSLkt",
        "outputId": "3ab26383-99ea-4e06-8548-2479c54ced83"
      },
      "execution_count": 8,
      "outputs": [
        {
          "output_type": "stream",
          "name": "stdout",
          "text": [
            "Linha específica (x=2):\n",
            "Nome                  Pedro\n",
            "Idade                    22\n",
            "Cidade       Belo Horizonte\n",
            "Profissão          Designer\n",
            "Salário                4500\n",
            "Empresa           Empresa C\n",
            "Name: 2, dtype: object\n"
          ]
        }
      ]
    },
    {
      "cell_type": "markdown",
      "source": [
        "**QUESTÃO 4**"
      ],
      "metadata": {
        "id": "YoO_W6PmSRCt"
      }
    },
    {
      "cell_type": "code",
      "source": [
        "# 4. Verificar se o DataFrame está vazio\n",
        "vazio = df.empty\n",
        "print(f\"O DataFrame está vazio? {vazio}\")"
      ],
      "metadata": {
        "colab": {
          "base_uri": "https://localhost:8080/"
        },
        "id": "KiErX_RxSWRJ",
        "outputId": "ebbc46ad-8406-4729-e6f7-ac3105006a13"
      },
      "execution_count": 9,
      "outputs": [
        {
          "output_type": "stream",
          "name": "stdout",
          "text": [
            "O DataFrame está vazio? False\n"
          ]
        }
      ]
    },
    {
      "cell_type": "markdown",
      "source": [
        "**QUESTÃO 5**"
      ],
      "metadata": {
        "id": "7VXR2LqnScAJ"
      }
    },
    {
      "cell_type": "code",
      "source": [
        "# 5. Apresentar os 5 primeiros registros da base de dados\n",
        "print(\"Os 5 primeiros registros da base de dados:\")\n",
        "print(df.head())"
      ],
      "metadata": {
        "colab": {
          "base_uri": "https://localhost:8080/"
        },
        "id": "MNxqfjbOSesx",
        "outputId": "0517574e-64c9-4ddf-bb61-b3123618e5c2"
      },
      "execution_count": 10,
      "outputs": [
        {
          "output_type": "stream",
          "name": "stdout",
          "text": [
            "Os 5 primeiros registros da base de dados:\n",
            "    Nome  Idade          Cidade   Profissão  Salário    Empresa\n",
            "0   João     25       São Paulo  Engenheiro     7000  Empresa A\n",
            "1  Maria     30  Rio de Janeiro      Médica    12000  Empresa B\n",
            "2  Pedro     22  Belo Horizonte    Designer     4500  Empresa C\n",
            "3    Ana     28        Brasília    Advogada     8500  Empresa D\n",
            "4  Lucas     35        Curitiba   Arquiteto     9000  Empresa E\n"
          ]
        }
      ]
    },
    {
      "cell_type": "markdown",
      "source": [
        "**QUESTÃO 6**"
      ],
      "metadata": {
        "id": "6BYJbAkKSixM"
      }
    },
    {
      "cell_type": "code",
      "source": [
        "# 6. Excluir um item (linha) de sua base de dados\n",
        "df = df.drop(3)\n",
        "print(\"DataFrame após excluir a linha 3:\")\n",
        "print(df)"
      ],
      "metadata": {
        "colab": {
          "base_uri": "https://localhost:8080/"
        },
        "id": "KVuedX13SlOk",
        "outputId": "9efaf41d-57df-457a-cacd-fd03525660c9"
      },
      "execution_count": 11,
      "outputs": [
        {
          "output_type": "stream",
          "name": "stdout",
          "text": [
            "DataFrame após excluir a linha 3:\n",
            "    Nome  Idade          Cidade   Profissão  Salário    Empresa\n",
            "0   João     25       São Paulo  Engenheiro     7000  Empresa A\n",
            "1  Maria     30  Rio de Janeiro      Médica    12000  Empresa B\n",
            "2  Pedro     22  Belo Horizonte    Designer     4500  Empresa C\n",
            "4  Lucas     35        Curitiba   Arquiteto     9000  Empresa E\n"
          ]
        }
      ]
    },
    {
      "cell_type": "markdown",
      "source": [
        "**QUESTÃO 7**"
      ],
      "metadata": {
        "id": "vNEU_cJhSpPM"
      }
    },
    {
      "cell_type": "code",
      "source": [
        "# 7. Adicionar um item (linha) à base de dados\n",
        "novo_item = pd.DataFrame({'Nome': ['Carlos'], 'Idade': [27], 'Cidade': ['Salvador'], 'Profissão': ['Engenheiro'], 'Salário': [7500], 'Empresa': ['Empresa F']})\n",
        "df = pd.concat([df, novo_item], ignore_index=True)\n",
        "print(\"DataFrame após adicionar um novo item:\")\n",
        "print(df)"
      ],
      "metadata": {
        "colab": {
          "base_uri": "https://localhost:8080/"
        },
        "id": "GhiUACJVSrKD",
        "outputId": "d0c406ad-85c6-4a03-ab51-b02b08cd700b"
      },
      "execution_count": 12,
      "outputs": [
        {
          "output_type": "stream",
          "name": "stdout",
          "text": [
            "DataFrame após adicionar um novo item:\n",
            "     Nome  Idade          Cidade   Profissão  Salário    Empresa\n",
            "0    João     25       São Paulo  Engenheiro     7000  Empresa A\n",
            "1   Maria     30  Rio de Janeiro      Médica    12000  Empresa B\n",
            "2   Pedro     22  Belo Horizonte    Designer     4500  Empresa C\n",
            "3   Lucas     35        Curitiba   Arquiteto     9000  Empresa E\n",
            "4  Carlos     27        Salvador  Engenheiro     7500  Empresa F\n"
          ]
        }
      ]
    },
    {
      "cell_type": "markdown",
      "source": [
        "**QUESTÃO 8**"
      ],
      "metadata": {
        "id": "oYoCCqTrUPIj"
      }
    },
    {
      "cell_type": "code",
      "source": [
        "# 8. Transpor a coluna para a linha\n",
        "transposta = df['Nome'].transpose()\n",
        "print(\"Coluna 'Nome' transposta para linha:\")\n",
        "print(transposta)"
      ],
      "metadata": {
        "id": "z7WDdgXoURPD"
      },
      "execution_count": null,
      "outputs": []
    },
    {
      "cell_type": "markdown",
      "source": [
        "**QUESTÃO 9**"
      ],
      "metadata": {
        "id": "Jbvs9iTxUVEL"
      }
    },
    {
      "cell_type": "code",
      "source": [
        "# 9. Apresentar em tela somente a 1ª e a 2ª coluna (rótulo) da base de dados\n",
        "print(\"Somente as colunas 1 e 2 (Nome e Idade):\")\n",
        "print(df[['Nome', 'Idade']])"
      ],
      "metadata": {
        "id": "pFPeAEg-UXLr"
      },
      "execution_count": null,
      "outputs": []
    },
    {
      "cell_type": "markdown",
      "source": [
        "**QUESTÃO 10**"
      ],
      "metadata": {
        "id": "Cq_MtQrRUbLz"
      }
    },
    {
      "cell_type": "code",
      "source": [
        "# 10. Descrição de como o projeto foi desenvolvido\n",
        "descricao = \"\"\"\n",
        "Este código foi feito usando a biblioteca python pandas para análise e manipulação de dados.\n",
        "As seguintes tarefas foram feitas: um DataFrame foi criado, foi feita a exibição de dados, foram selecionadas certas colunas e linhas, foram verificadas certas condições e também a transposição de dados.\n",
        "Eu usei alguns vídeos, slides e o chatgpt para auxilio e correção do meu código.\n",
        "\"\"\"\n",
        "print(descricao)"
      ],
      "metadata": {
        "colab": {
          "base_uri": "https://localhost:8080/"
        },
        "id": "oVFWMalXUhHb",
        "outputId": "f629cf02-57b8-437f-977c-a315e79167d1"
      },
      "execution_count": 1,
      "outputs": [
        {
          "output_type": "stream",
          "name": "stdout",
          "text": [
            "\n",
            "fpadase.\n",
            "\n"
          ]
        }
      ]
    }
  ]
}